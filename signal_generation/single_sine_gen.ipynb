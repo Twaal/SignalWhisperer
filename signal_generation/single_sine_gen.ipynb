{
 "cells": [
  {
   "cell_type": "markdown",
   "metadata": {},
   "source": [
    "## Generate a signal"
   ]
  },
  {
   "cell_type": "code",
   "execution_count": 2,
   "metadata": {},
   "outputs": [
    {
     "name": "stdout",
     "output_type": "stream",
     "text": [
      "Requirement already satisfied: numpy in c:\\users\\theod\\documents\\projects\\signalwhisperer\\.venv\\lib\\site-packages (1.26.3)\n",
      "Requirement already satisfied: scipy in c:\\users\\theod\\documents\\projects\\signalwhisperer\\.venv\\lib\\site-packages (1.11.4)\n",
      "Requirement already satisfied: numpy<1.28.0,>=1.21.6 in c:\\users\\theod\\documents\\projects\\signalwhisperer\\.venv\\lib\\site-packages (from scipy) (1.26.3)\n",
      "Requirement already satisfied: matplotlib in c:\\users\\theod\\documents\\projects\\signalwhisperer\\.venv\\lib\\site-packages (3.8.2)\n",
      "Requirement already satisfied: contourpy>=1.0.1 in c:\\users\\theod\\documents\\projects\\signalwhisperer\\.venv\\lib\\site-packages (from matplotlib) (1.2.0)\n",
      "Requirement already satisfied: cycler>=0.10 in c:\\users\\theod\\documents\\projects\\signalwhisperer\\.venv\\lib\\site-packages (from matplotlib) (0.12.1)\n",
      "Requirement already satisfied: fonttools>=4.22.0 in c:\\users\\theod\\documents\\projects\\signalwhisperer\\.venv\\lib\\site-packages (from matplotlib) (4.47.2)\n",
      "Requirement already satisfied: kiwisolver>=1.3.1 in c:\\users\\theod\\documents\\projects\\signalwhisperer\\.venv\\lib\\site-packages (from matplotlib) (1.4.5)\n",
      "Requirement already satisfied: numpy<2,>=1.21 in c:\\users\\theod\\documents\\projects\\signalwhisperer\\.venv\\lib\\site-packages (from matplotlib) (1.26.3)\n",
      "Requirement already satisfied: packaging>=20.0 in c:\\users\\theod\\documents\\projects\\signalwhisperer\\.venv\\lib\\site-packages (from matplotlib) (23.2)\n",
      "Requirement already satisfied: pillow>=8 in c:\\users\\theod\\documents\\projects\\signalwhisperer\\.venv\\lib\\site-packages (from matplotlib) (10.2.0)\n",
      "Requirement already satisfied: pyparsing>=2.3.1 in c:\\users\\theod\\documents\\projects\\signalwhisperer\\.venv\\lib\\site-packages (from matplotlib) (3.1.1)\n",
      "Requirement already satisfied: python-dateutil>=2.7 in c:\\users\\theod\\documents\\projects\\signalwhisperer\\.venv\\lib\\site-packages (from matplotlib) (2.8.2)\n",
      "Requirement already satisfied: importlib-resources>=3.2.0 in c:\\users\\theod\\documents\\projects\\signalwhisperer\\.venv\\lib\\site-packages (from matplotlib) (6.1.1)\n",
      "Requirement already satisfied: zipp>=3.1.0 in c:\\users\\theod\\documents\\projects\\signalwhisperer\\.venv\\lib\\site-packages (from importlib-resources>=3.2.0->matplotlib) (3.17.0)\n",
      "Requirement already satisfied: six>=1.5 in c:\\users\\theod\\documents\\projects\\signalwhisperer\\.venv\\lib\\site-packages (from python-dateutil>=2.7->matplotlib) (1.16.0)\n"
     ]
    }
   ],
   "source": [
    "!pip install numpy\n",
    "!pip install scipy\n",
    "!pip install matplotlib"
   ]
  },
  {
   "cell_type": "code",
   "execution_count": 3,
   "metadata": {},
   "outputs": [],
   "source": [
    "import numpy as np\n",
    "import scipy.io.wavfile\n",
    "import scipy.signal\n",
    "import matplotlib.pyplot as plt"
   ]
  },
  {
   "cell_type": "markdown",
   "metadata": {},
   "source": [
    "Create a class that stores the signal state"
   ]
  },
  {
   "cell_type": "code",
   "execution_count": 4,
   "metadata": {},
   "outputs": [],
   "source": [
    "class signalGenerator:\n",
    "    def __init__(self):\n",
    "        # Audio will contain a long list of samples (i.e. floating point numbers describing the\n",
    "        # waveform).  If you were working with a very long sound you'd want to stream this to\n",
    "        # disk instead of buffering it all in memory list this.  But most sounds will fit in \n",
    "        # memory.\n",
    "        self.audio = []\n",
    "        self.sample_rate = 44100.0\n",
    "\n",
    "    def append_silence(self, duration_milliseconds=500):\n",
    "\n",
    "        num_samples = duration_milliseconds * (self.sample_rate / 1000.0)\n",
    "\n",
    "        for x in range(int(num_samples)):\n",
    "            self.audio.append(0.0)\n",
    "\n",
    "        return\n",
    "\n",
    "    def append_signalwave(\n",
    "            self,\n",
    "            freq=440.0,\n",
    "            duration_milliseconds=500,\n",
    "            volume=1.0):\n",
    "  \n",
    "\n",
    "        num_samples = duration_milliseconds * (self.sample_rate / 1000.0)\n",
    "\n",
    "        x = np.array([i for i in range(int(num_samples))])\n",
    "\n",
    "        signal_wave = volume * np.sin(2 * np.pi * freq * (x / self.sample_rate))\n",
    "\n",
    "        # Generate hanning window of same length as the tone and apply it to the signal\n",
    "        hanning_window = np.hanning(num_samples)\n",
    "        signal_wave = np.multiply(hanning_window, signal_wave)\n",
    "\n",
    "        self.audio.extend(list(signal_wave))\n",
    "        return\n",
    "\n",
    "    def append_signalwaves(\n",
    "            self,\n",
    "            freqs=[440.0],\n",
    "            duration_milliseconds=500,\n",
    "            volumes=[1.0]):\n",
    "       \n",
    "\n",
    "        volumes = list(np.array(volumes)/sum(volumes))\n",
    "        num_samples = duration_milliseconds * (self.sample_rate / 1000.0)\n",
    "        x = np.array([i for i in range(int(num_samples))])\n",
    "\n",
    "        first_it = True\n",
    "        for volume, freq in zip(volumes, freqs):\n",
    "            print(freq)\n",
    "            if first_it:\n",
    "                signal_wave = volume * np.sin(2 * np.pi * freq * (x / self.sample_rate))\n",
    "                first_it = False\n",
    "            else:\n",
    "                signal_wave += volume * np.sin(2 * np.pi * freq * (x / self.sample_rate))\n",
    "\n",
    "        # Generate hanning window of same length as the tone and apply it to the signal\n",
    "        hanning_window = np.hanning(num_samples)\n",
    "        signal_wave = np.multiply(hanning_window, signal_wave)\n",
    "\n",
    "        self.audio.extend(list(signal_wave))\n",
    "        return\n",
    "\n",
    "    def highpass(self, cutoff_freq):\n",
    "        sos = scipy.signal.butter(10, cutoff_freq, 'hp', fs=self.sample_rate, output='sos')\n",
    "        self.audio = scipy.signal.sosfilt(sos, self.audio)\n",
    "\n",
    "    def save_wav(self, file_name):\n",
    "\n",
    "        # 44100 is the industry standard sample rate - CD quality.  If you need to\n",
    "        # save on file size you can adjust it downwards. The standard for low quality\n",
    "        # is 8000 or 8kHz.\n",
    "\n",
    "        # WAV files here are using short, 16 bit, signed integers for the \n",
    "        # sample size.  So we multiply the floating point data we have by 32767, the\n",
    "        # maximum value for a short integer.  NOTE: It is theoretically possible to\n",
    "        # use the floating point -1.0 to 1.0 data directly in a WAV file but not\n",
    "        # obvious how to do that using the wave module in python.\n",
    "        self.audio = np.array(self.audio).astype(np.float32)\n",
    "        scipy.io.wavfile.write(file_name, int(self.sample_rate), np.array(self.audio))\n",
    "        return"
   ]
  },
  {
   "cell_type": "markdown",
   "metadata": {},
   "source": [
    "Now generate a signal and plot it"
   ]
  },
  {
   "cell_type": "code",
   "execution_count": 14,
   "metadata": {},
   "outputs": [
    {
     "name": "stdout",
     "output_type": "stream",
     "text": [
      "256.87\n",
      "384.87\n",
      "576.65\n",
      "864.0\n",
      "1294.54\n"
     ]
    }
   ],
   "source": [
    "signal = signalGenerator()\n",
    "\n",
    "signal.append_silence()\n",
    "signal.append_signalwaves(volumes=[1, 0, 1, 0, 1], duration_milliseconds=500, freqs=[256.87, 384.87, 576.65, 864.00, 1294.54])\n",
    "signal.append_silence()\n",
    "# signal.highpass(20000) # band limited to ultrasonic tones\n",
    "signal.save_wav(\"output.wav\")"
   ]
  },
  {
   "cell_type": "code",
   "execution_count": 8,
   "metadata": {},
   "outputs": [
    {
     "data": {
      "text/plain": [
       "[<matplotlib.lines.Line2D at 0x18c7fce5580>]"
      ]
     },
     "execution_count": 8,
     "metadata": {},
     "output_type": "execute_result"
    },
    {
     "data": {
      "image/png": "[encoded data removed]",
      "text/plain": [
       "<Figure size 640x480 with 1 Axes>"
      ]
     },
     "metadata": {},
     "output_type": "display_data"
    }
   ],
   "source": [
    "plt.plot(signal.audio)"
   ]
  }
 ],
 "metadata": {
  "kernelspec": {
   "display_name": ".venv",
   "language": "python",
   "name": "python3"
  },
  "language_info": {
   "codemirror_mode": {
    "name": "ipython",
    "version": 3
   },
   "file_extension": ".py",
   "mimetype": "text/x-python",
   "name": "python",
   "nbconvert_exporter": "python",
   "pygments_lexer": "ipython3",
   "version": "3.9.7"
  }
 },
 "nbformat": 4,
 "nbformat_minor": 2
}
